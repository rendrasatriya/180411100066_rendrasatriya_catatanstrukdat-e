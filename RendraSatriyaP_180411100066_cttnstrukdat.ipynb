{
 "cells": [
  {
   "cell_type": "code",
   "execution_count": 1,
   "metadata": {},
   "outputs": [
    {
     "name": "stdout",
     "output_type": "stream",
     "text": [
      "found the search number.\n",
      "1\n",
      "1\n"
     ]
    }
   ],
   "source": [
    "#linear Search\n",
    "search = 2\n",
    "mylist = [1,2,3,4,5,6]\n",
    "position = len(mylist)-1\n",
    "last = 0\n",
    "iterasi = 0\n",
    "found = False\n",
    "while position >= last and not found:\n",
    "    if mylist[position] == search:\n",
    "        found = True\n",
    "    else:\n",
    "        position = position - 1\n",
    "iterasi = iterasi + 1\n",
    "if found:\n",
    "    print(\"found the search number.\")\n",
    "    print(position)\n",
    "    print(iterasi)\n",
    "else:\n",
    "    print(\"Did not find the seacrh number.\")"
   ]
  },
  {
   "cell_type": "code",
   "execution_count": 2,
   "metadata": {},
   "outputs": [
    {
     "name": "stdout",
     "output_type": "stream",
     "text": [
      "Did not find the seacrh number.\n",
      "found the search number.\n",
      "1\n"
     ]
    }
   ],
   "source": [
    "#linear Search\n",
    "search = 2\n",
    "mylist = [1,2,3,4,5,6]\n",
    "position =0\n",
    "last = len(mylist)-1\n",
    "found = False\n",
    "while position <= last and not found:\n",
    "    if mylist[position] == search:\n",
    "        found = True\n",
    "    else:\n",
    "        position = position + 1\n",
    "    if found:\n",
    "        print(\"found the search number.\")\n",
    "        print(position)\n",
    "    else:\n",
    "        print(\"Did not find the seacrh number.\")"
   ]
  },
  {
   "cell_type": "code",
   "execution_count": 3,
   "metadata": {},
   "outputs": [
    {
     "name": "stdout",
     "output_type": "stream",
     "text": [
      "found the search number.\n",
      "1\n",
      "2\n"
     ]
    }
   ],
   "source": [
    "#linear Search\n",
    "def deret (search, mylist):\n",
    "    position = 0\n",
    "    last = len(mylist)-1\n",
    "    iterasi = 0\n",
    "    found = False\n",
    "    while position <= last and not found:\n",
    "        if mylist[position] == search:\n",
    "            found = True\n",
    "        else:\n",
    "            position = position + 1\n",
    "        iterasi += 1\n",
    "    if found:\n",
    "        print(\"found the search number.\")\n",
    "        print(position)\n",
    "    else:\n",
    "        print(\"Did not find the seacrh number.\")\n",
    "    print(iterasi)\n",
    "deret(2,[1,2,3,4,5,6])"
   ]
  },
  {
   "cell_type": "code",
   "execution_count": 4,
   "metadata": {},
   "outputs": [
    {
     "name": "stdout",
     "output_type": "stream",
     "text": [
      "Did not find the seacrh number. \n",
      "Did not find the seacrh number. \n",
      "Did not find the seacrh number. \n",
      "Did not find the seacrh number. \n",
      "found the search number.\n",
      "1\n"
     ]
    }
   ],
   "source": [
    "#linear Search\n",
    "def deret (search, mylist):\n",
    "    position = len(mylist)- 1\n",
    "    last = 0\n",
    "    found = False\n",
    "    while position >= last and not found:\n",
    "        if mylist[position] == search:\n",
    "            found = True\n",
    "        else:\n",
    "            position = position - 1\n",
    "        if found:\n",
    "            print(\"found the search number.\")\n",
    "            print(position)\n",
    "        else:\n",
    "            print(\"Did not find the seacrh number. \")\n",
    "deret(2,[1,2,3,4,5,6])"
   ]
  },
  {
   "cell_type": "code",
   "execution_count": 5,
   "metadata": {},
   "outputs": [
    {
     "name": "stdout",
     "output_type": "stream",
     "text": [
      "Did not find the seacrh number.\n",
      "found the search number.\n",
      "1\n",
      "Did not find the seacrh number.\n",
      "Did not find the seacrh number.\n",
      "Did not find the seacrh number.\n",
      "jumlah perulangan  4\n"
     ]
    }
   ],
   "source": [
    "search = 2\n",
    "mylist = [1,2,3,4,5,6]\n",
    "position =0\n",
    "last = len(mylist)-1\n",
    "found = False\n",
    "for position in range(len(mylist) - 1):\n",
    "    if mylist[position] == search:\n",
    "        found = True\n",
    "        print(\"found the search number.\")\n",
    "        print(position)\n",
    "    else:\n",
    "        print(\"Did not find the seacrh number.\")\n",
    "print(\"jumlah perulangan \", position)"
   ]
  },
  {
   "cell_type": "code",
   "execution_count": 6,
   "metadata": {},
   "outputs": [
    {
     "name": "stdout",
     "output_type": "stream",
     "text": [
      "Angka ditemukan!\n",
      "posisi angka yang ditemukan adalah 1\n",
      "Langkah yang sudah di ambil dalam menemukan adalah 1 langkah\n"
     ]
    }
   ],
   "source": [
    "#binary search\n",
    "def binary_search(angka,listku):\n",
    "  listku.sort() #Penyortiran List\n",
    "  langkah = 0\n",
    "  ketemu = False\n",
    "  awal = 0\n",
    "  akhir = len(listku)-1\n",
    "  while awal <= akhir and not ketemu:\n",
    "    tengah = (awal+akhir)//2\n",
    "    if listku[tengah] == angka:\n",
    "      ketemu = True\n",
    "    elif angka > tengah:\n",
    "      awal = tengah+1\n",
    "    else:\n",
    "      akhir = tengah-1\n",
    "    langkah+=1\n",
    "  if ketemu:\n",
    "    print (\"Angka ditemukan!\")\n",
    "    print (\"posisi angka yang ditemukan adalah %s\" % str(awal+1))\n",
    "  else:\n",
    "    print (\"Angka yang anda maksudkan tidak ditemukan!\")\n",
    "  print (\"Langkah yang sudah di ambil dalam menemukan adalah %s langkah\" % langkah)\n",
    "\n",
    "binary_search(4,[1,1,2,6,7,8,9,3,4])"
   ]
  },
  {
   "cell_type": "code",
   "execution_count": 7,
   "metadata": {},
   "outputs": [
    {
     "name": "stdout",
     "output_type": "stream",
     "text": [
      "found the search number.\n",
      "2\n"
     ]
    }
   ],
   "source": [
    "search = 3\n",
    "mylist = [3,1,4,5,8,7,9,11,2,13,12,15,18,20]\n",
    "mylist.sort()\n",
    "awal = 0\n",
    "akhir = len(mylist)-1\n",
    "iterasi = 0\n",
    "found = False\n",
    "while awal <= akhir and not found:\n",
    "    tengah = (awal+akhir)//2\n",
    "    if mylist[tengah] == search:\n",
    "        found = True\n",
    "    else:\n",
    "        if search < mylist[tengah]:\n",
    "            akhir = tengah - 1\n",
    "        else:\n",
    "            awal = tengah + 1\n",
    "    iterasi += 1\n",
    "if found:\n",
    "    print(\"found the search number.\")\n",
    "    print(iterasi)\n",
    "else:\n",
    "    print(\"Did not find the seacrh number.\")"
   ]
  },
  {
   "cell_type": "code",
   "execution_count": 8,
   "metadata": {},
   "outputs": [
    {
     "name": "stdout",
     "output_type": "stream",
     "text": [
      "found the search number.\n",
      "12\n"
     ]
    }
   ],
   "source": [
    "search = 4\n",
    "mylist = [3,1,4,5,8,7,9,11,2,13,12,15,18,20]\n",
    "position = len(mylist)-1\n",
    "last = 0\n",
    "iterasi = 0\n",
    "found = False\n",
    "while position >= last and not found:\n",
    "    if mylist[position] == search:\n",
    "        found = True\n",
    "    else:\n",
    "        position = position - 1\n",
    "    iterasi = iterasi + 1\n",
    "if found:\n",
    "    print(\"found the search number.\")\n",
    "    print(iterasi)\n",
    "else:\n",
    "    print(\"Did not find the seacrh number.\")"
   ]
  },
  {
   "cell_type": "code",
   "execution_count": 9,
   "metadata": {},
   "outputs": [
    {
     "name": "stdout",
     "output_type": "stream",
     "text": [
      "found the search number.\n",
      "2\n"
     ]
    }
   ],
   "source": [
    "#binary search\n",
    "def binear (search, mylist):\n",
    "    mylist.sort()\n",
    "    awal = 0\n",
    "    akhir = len(mylist)-1\n",
    "    tengah = (awal+akhir)//2\n",
    "    iterasi = 0\n",
    "    found = False\n",
    "    while awal <= akhir and not found:\n",
    "        tengah = (awal+akhir)//2\n",
    "        if mylist[tengah] == search:\n",
    "            found = True\n",
    "        else:\n",
    "            if search < mylist[tengah]:\n",
    "                akhir = tengah - 1\n",
    "            else:\n",
    "                awal = tengah + 1\n",
    "        iterasi += 1\n",
    "    if found:\n",
    "        print(\"found the search number.\")\n",
    "        print(iterasi)\n",
    "    else:\n",
    "        print(\"Did not find the seacrh number.\")\n",
    "binear(3, [3,1,4,5,8,7,9,11,2,13,12,15,18,20])"
   ]
  },
  {
   "cell_type": "code",
   "execution_count": 10,
   "metadata": {},
   "outputs": [
    {
     "name": "stdout",
     "output_type": "stream",
     "text": [
      "found the search number.\n",
      "3\n"
     ]
    }
   ],
   "source": [
    "search = 3\n",
    "mylist = [3,1,4,5,8,7,9,11,2,13,12,15,18,20]\n",
    "mylist.sort()\n",
    "awal = 0\n",
    "akhir = len(mylist)-1\n",
    "tengah = (awal+akhir)//2\n",
    "iterasi = 0\n",
    "found = False\n",
    "while awal <= akhir and not found:\n",
    "    tengah = (awal+akhir)//2\n",
    "    if mylist[tengah] == search:\n",
    "        found = True\n",
    "    else:\n",
    "        if search < mylist[tengah]:\n",
    "            akhir = tengah + 1\n",
    "        else:\n",
    "            awal = tengah - 1\n",
    "    iterasi += 1\n",
    "if found:\n",
    "    print(\"found the search number.\")\n",
    "    print(iterasi)\n",
    "else:\n",
    "    print(\"Did not find the seacrh number.\")"
   ]
  },
  {
   "cell_type": "code",
   "execution_count": 11,
   "metadata": {},
   "outputs": [
    {
     "name": "stdout",
     "output_type": "stream",
     "text": [
      "[None, None, None, None, None, None, None, None, None, None, None]\n",
      "[None, None, None, None, None, None, None, None, None, None, 54]\n",
      "[None, None, None, None, 26, None, None, None, None, None, 54]\n",
      "[None, None, None, None, 26, 93, None, None, None, None, 54]\n",
      "[None, None, None, None, 26, 93, 17, None, None, None, 54]\n",
      "[77, None, None, None, 26, 93, 17, None, None, None, 54]\n",
      "[77, None, None, None, 26, 93, 17, None, None, 31, 54]\n",
      "[77, 44, None, None, 26, 93, 17, None, None, 31, 54]\n",
      "[77, 44, None, 55, 26, 93, 17, None, None, 31, 54]\n",
      "[77, 44, 20, 55, 26, 93, 17, None, None, 31, 54]\n"
     ]
    }
   ],
   "source": [
    "#hashing quadratic probling\n",
    "table=[None]*11\n",
    "\n",
    "def hash(x):\n",
    "    return x% len(table)\n",
    "def insert(table,key,value):\n",
    "    index=hash(key)\n",
    "    if table[index]==None:\n",
    "        table[index]=value\n",
    "    else:\n",
    "        collusion = index\n",
    "        found = False\n",
    "        i = 1\n",
    "        ind = collusion + 1\n",
    "        if ind > len(table)-1:\n",
    "            ind=0\n",
    "        while (ind<=len(table)-1) and not found:\n",
    "            ind =(collusion+(i*i))%11\n",
    "            if table[ind] == None:\n",
    "                found = True\n",
    "                table[ind] = value \n",
    "            i = i + 1 \n",
    "                \n",
    "print(table)\n",
    "insert(table,54,54)\n",
    "print(table)\n",
    "insert(table,26,26)\n",
    "print(table)\n",
    "insert(table,93,93)\n",
    "print(table)\n",
    "insert(table,17,17)\n",
    "print(table)\n",
    "insert(table,77,77)\n",
    "print(table)\n",
    "insert(table,31,31)\n",
    "print(table)\n",
    "insert(table,44,44)\n",
    "print(table)\n",
    "insert(table,55,55)\n",
    "print(table)\n",
    "insert(table,20,20)\n",
    "print(table)\n",
    "insert(table,25,25)"
   ]
  },
  {
   "cell_type": "code",
   "execution_count": 12,
   "metadata": {},
   "outputs": [
    {
     "name": "stdout",
     "output_type": "stream",
     "text": [
      "[None, None, None, None, None, None, None, None, None, None, None]\n",
      "[None, None, None, None, None, None, None, None, None, None, 54]\n",
      "[None, None, None, None, 26, None, None, None, None, None, 54]\n",
      "[None, None, None, None, 26, 93, None, None, None, None, 54]\n",
      "[None, None, None, None, 26, 93, 17, None, None, None, 54]\n",
      "[77, None, None, None, 26, 93, 17, None, None, None, 54]\n",
      "[77, None, None, None, 26, 93, 17, None, None, 31, 54]\n",
      "[77, 44, None, None, 26, 93, 17, None, None, 31, 54]\n",
      "[77, 44, 55, None, 26, 93, 17, None, None, 31, 54]\n",
      "[77, 44, 55, 20, 26, 93, 17, None, None, 31, 54]\n"
     ]
    }
   ],
   "source": [
    "#hashing Linear Probling\n",
    "table=[None]*11\n",
    "\n",
    "def hash(x):\n",
    "    return x% 11\n",
    "def insert(table,key,value):\n",
    "    index=hash(key)\n",
    "    if table[index]==None:\n",
    "        table[index]=value\n",
    "    else:\n",
    "        collusion=index\n",
    "        found=False\n",
    "        ind=collusion+1\n",
    "        if ind >= len(table)-1:\n",
    "            ind=0\n",
    "        while(ind<=len(table)-1)and not(found):\n",
    "            if table[ind]==None:\n",
    "                found=True\n",
    "                table[ind]=value\n",
    "            ind = ind+1\n",
    "\n",
    "print(table)\n",
    "insert(table,54,54)\n",
    "print(table)\n",
    "insert(table,26,26)\n",
    "print(table)\n",
    "insert(table,93,93)\n",
    "print(table)\n",
    "insert(table,17,17)\n",
    "print(table)\n",
    "insert(table,77,77)\n",
    "print(table)\n",
    "insert(table,31,31)\n",
    "print(table)\n",
    "insert(table,44,44)\n",
    "print(table)\n",
    "insert(table,55,55)\n",
    "print(table)\n",
    "insert(table,20,20)\n",
    "print(table)\n",
    "insert(table,25,25)"
   ]
  },
  {
   "cell_type": "code",
   "execution_count": 13,
   "metadata": {},
   "outputs": [
    {
     "name": "stdout",
     "output_type": "stream",
     "text": [
      "posisi awal  [23, 7, 32, 99, 4, 15, 11, 20]\n",
      "[4, 7, 11, 15, 20, 23, 32, 99]\n",
      "pencarian tidak ditemukan\n",
      "perulangan yang terjadi sebanyak  8\n"
     ]
    }
   ],
   "source": [
    "#bubble short + linear search\n",
    "def BubbleSort (val):\n",
    "    for x in range(len(val)-1,0,-1):\n",
    "        for i in range(x):\n",
    "            if val[i] > val[i+1]:\n",
    "                swap = val[i]\n",
    "                val[i]= val[i+1]\n",
    "                val[i+1] = swap\n",
    "Angka = [23,7,32,99,4,15,11,20]\n",
    "print(\"posisi awal \",Angka)\n",
    "BubbleSort(Angka)\n",
    "print(Angka)\n",
    "cari = 8\n",
    "posisi = 0\n",
    "akhir = len(Angka)-1\n",
    "iterasi = 0\n",
    "found = False\n",
    "while posisi <= akhir and not found: \n",
    "    iterasi += 1\n",
    "    if Angka[posisi] == cari:\n",
    "        found = True\n",
    "    else:\n",
    "        posisi += 1\n",
    "if found:\n",
    "    print(\"pencarian ditemukan\")\n",
    "    print(\"berada di index \",posisi)\n",
    "else:\n",
    "    print(\"pencarian tidak ditemukan\")\n",
    "print(\"perulangan yang terjadi sebanyak \",iterasi)"
   ]
  },
  {
   "cell_type": "code",
   "execution_count": 14,
   "metadata": {},
   "outputs": [
    {
     "name": "stdout",
     "output_type": "stream",
     "text": [
      "Buble Sort\n",
      "mylist = [10, 9, 8, 7, 6, 5, 4, 3, 2, 1]\n",
      "81\n"
     ]
    }
   ],
   "source": [
    "#Buble sort\n",
    "print(\"Buble Sort\")\n",
    "iterasi = 0\n",
    "mylist = [3,6,2,1,4,5,9,8,7,10]\n",
    "for i in range(1,len(mylist)):\n",
    "    for a in range(0,len(mylist)-1):\n",
    "        iterasi += 1\n",
    "        if mylist[a] < mylist[a+1]:\n",
    "            swap = mylist[a]\n",
    "            mylist[a]= mylist[a+1]\n",
    "            mylist[a+1] = swap\n",
    "print(\"mylist =\",mylist)\n",
    "print(iterasi)"
   ]
  },
  {
   "cell_type": "code",
   "execution_count": 15,
   "metadata": {},
   "outputs": [
    {
     "name": "stdout",
     "output_type": "stream",
     "text": [
      "mylist = [6, 5, 4, 3, 2, 1]\n",
      "25\n"
     ]
    }
   ],
   "source": [
    "#bubble short\n",
    "iterasi = 0\n",
    "mylist = [1,2,3,4,5,6]\n",
    "for i in range(1,len(mylist)):\n",
    "    for a in range(0,len(mylist)-1):\n",
    "        iterasi += 1\n",
    "        if mylist[a] < mylist[a+1]:\n",
    "            swap = mylist[a]\n",
    "            mylist[a]= mylist[a+1]\n",
    "            mylist[a+1] = swap\n",
    "print(\"mylist =\",mylist)\n",
    "print(iterasi)"
   ]
  },
  {
   "cell_type": "code",
   "execution_count": 16,
   "metadata": {},
   "outputs": [
    {
     "name": "stdout",
     "output_type": "stream",
     "text": [
      "[2, 1, 4, 6, 5, 7]\n",
      "[1, 2, 4, 6, 5, 7]\n",
      "[1, 2, 4, 6, 5, 7]\n",
      "[1, 2, 4, 6, 5, 7]\n",
      "[1, 2, 4, 5, 6, 7]\n",
      "[1, 2, 4, 5, 6, 7]\n",
      "[1, 2, 4, 5, 6, 7]\n",
      "[1, 2, 4, 5, 6, 7]\n",
      "[1, 2, 4, 5, 6, 7]\n",
      "[1, 2, 4, 5, 6, 7]\n",
      "[1, 2, 4, 5, 6, 7]\n",
      "[1, 2, 4, 5, 6, 7]\n",
      "[1, 2, 4, 5, 6, 7]\n",
      "[1, 2, 4, 5, 6, 7]\n",
      "[1, 2, 4, 5, 6, 7]\n",
      "[1, 2, 4, 5, 6, 7]\n",
      "[1, 2, 4, 5, 6, 7]\n",
      "[1, 2, 4, 5, 6, 7]\n",
      "[1, 2, 4, 5, 6, 7]\n",
      "[1, 2, 4, 5, 6, 7]\n",
      "[1, 2, 4, 5, 6, 7]\n",
      "[1, 2, 4, 5, 6, 7]\n",
      "[1, 2, 4, 5, 6, 7]\n",
      "[1, 2, 4, 5, 6, 7]\n",
      "[1, 2, 4, 5, 6, 7]\n",
      "x = [1, 2, 4, 5, 6, 7]\n",
      "25\n"
     ]
    }
   ],
   "source": [
    "#bubble short\n",
    "iterasi = 0\n",
    "x = [2,1,4,6,5,7]\n",
    "for i in range(1,len(x)):\n",
    "    for a in range(0,len(x)-1):\n",
    "        print(x)\n",
    "        iterasi += 1\n",
    "        if x[a] > x[a+1]:\n",
    "            swap = x[a]\n",
    "            x[a]= x[a+1]\n",
    "            x[a+1] = swap\n",
    "print(\"x =\",x)\n",
    "print(iterasi)"
   ]
  },
  {
   "cell_type": "code",
   "execution_count": 17,
   "metadata": {},
   "outputs": [
    {
     "name": "stdout",
     "output_type": "stream",
     "text": [
      "[2, 4, 1, 6, 5, 3]\n",
      "[2, 4, 1, 6, 5, 3]\n",
      "[2, 4, 1, 6, 5, 3]\n",
      "[2, 4, 1, 6, 5, 3]\n",
      "[2, 4, 1, 6, 5, 3]\n",
      "[2, 4, 3, 6, 5, 1]\n",
      "[2, 4, 3, 6, 5, 1]\n",
      "[2, 4, 3, 6, 5, 1]\n",
      "[2, 4, 3, 6, 5, 1]\n",
      "[5, 4, 3, 6, 2, 1]\n",
      "[5, 4, 3, 6, 2, 1]\n",
      "[5, 4, 3, 6, 2, 1]\n",
      "[5, 4, 6, 3, 2, 1]\n",
      "[5, 4, 6, 3, 2, 1]\n",
      "[5, 6, 4, 3, 2, 1]\n",
      "x = [6, 5, 4, 3, 2, 1]\n",
      "15\n"
     ]
    }
   ],
   "source": [
    "#selection short nilai minimum diposisi akhir index\n",
    "iterasi = 0\n",
    "x = [2,4,1,6,5,3]\n",
    "for i in range(len(x)-1,0,-1):\n",
    "    iMin = i\n",
    "    for j in range(i-1,-1,-1):\n",
    "        print(x)\n",
    "        iterasi += 1\n",
    "        if x[j] < x[iMin]:\n",
    "            iMin = j\n",
    "    swap = x[i]\n",
    "    x[i]= x[iMin]\n",
    "    x[iMin] = swap\n",
    "print(\"x =\",x)\n",
    "print(iterasi)\n"
   ]
  },
  {
   "cell_type": "code",
   "execution_count": 18,
   "metadata": {},
   "outputs": [
    {
     "name": "stdout",
     "output_type": "stream",
     "text": [
      "[5, 6, 3, 2, 1, 4]\n",
      "[5, 6, 3, 2, 1, 4]\n",
      "[5, 6, 3, 2, 1, 4]\n",
      "[5, 6, 3, 2, 1, 4]\n",
      "[5, 6, 3, 2, 1, 4]\n",
      "[1, 6, 3, 2, 5, 4]\n",
      "[1, 6, 3, 2, 5, 4]\n",
      "[1, 6, 3, 2, 5, 4]\n",
      "[1, 6, 3, 2, 5, 4]\n",
      "[1, 2, 3, 6, 5, 4]\n",
      "[1, 2, 3, 6, 5, 4]\n",
      "[1, 2, 3, 6, 5, 4]\n",
      "[1, 2, 3, 6, 5, 4]\n",
      "[1, 2, 3, 6, 5, 4]\n",
      "[1, 2, 3, 4, 5, 6]\n",
      "x = [1, 2, 3, 4, 5, 6]\n",
      "15\n"
     ]
    }
   ],
   "source": [
    "#selection short nilai minimum diposisi awal index\n",
    "iterasi = 0\n",
    "x = [5,6,3,2,1,4]\n",
    "for i in range(0,len(x)-1):\n",
    "    iMin = i\n",
    "    for j in range((i+1),len(x)):\n",
    "        print(x)\n",
    "        iterasi += 1\n",
    "        if x[j] < x[iMin]:\n",
    "            iMin = j\n",
    "    swap = x[i]\n",
    "    x[i]= x[iMin]\n",
    "    x[iMin] = swap\n",
    "print(\"x =\",x)\n",
    "print(iterasi)\n"
   ]
  },
  {
   "cell_type": "code",
   "execution_count": 19,
   "metadata": {},
   "outputs": [
    {
     "name": "stdout",
     "output_type": "stream",
     "text": [
      "[2, 4, 1, 6, 5, 3]\n",
      "[2, 4, 1, 6, 5, 3]\n",
      "[2, 4, 1, 6, 5, 3]\n",
      "[2, 4, 1, 6, 5, 3]\n",
      "[2, 4, 1, 6, 5, 3]\n",
      "[6, 4, 1, 2, 5, 3]\n",
      "[6, 4, 1, 2, 5, 3]\n",
      "[6, 4, 1, 2, 5, 3]\n",
      "[6, 4, 1, 2, 5, 3]\n",
      "[6, 5, 1, 2, 4, 3]\n",
      "[6, 5, 1, 2, 4, 3]\n",
      "[6, 5, 1, 2, 4, 3]\n",
      "[6, 5, 4, 2, 1, 3]\n",
      "[6, 5, 4, 2, 1, 3]\n",
      "[6, 5, 4, 3, 1, 2]\n",
      "x = [6, 5, 4, 3, 2, 1]\n",
      "15\n"
     ]
    }
   ],
   "source": [
    "#selection short nilai maximum diposisi awal index\n",
    "iterasi = 0\n",
    "x = [2,4,1,6,5,3]\n",
    "for i in range(0,len(x)-1):\n",
    "    iMin = i\n",
    "    for j in range(i+1,len(x)):\n",
    "        print(x)\n",
    "        iterasi += 1\n",
    "        if x[j] > x[iMin]:\n",
    "            iMin = j\n",
    "    swap = x[i]\n",
    "    x[i]= x[iMin]\n",
    "    x[iMin] = swap\n",
    "print(\"x =\",x)\n",
    "print(iterasi)"
   ]
  },
  {
   "cell_type": "code",
   "execution_count": 20,
   "metadata": {},
   "outputs": [
    {
     "name": "stdout",
     "output_type": "stream",
     "text": [
      "[5, 6, 3, 2, 1, 4]\n",
      "[5, 6, 3, 2, 1, 4]\n",
      "[5, 6, 3, 2, 1, 4]\n",
      "[5, 6, 3, 2, 1, 4]\n",
      "[5, 6, 3, 2, 1, 4]\n",
      "[5, 4, 3, 2, 1, 6]\n",
      "[5, 4, 3, 2, 1, 6]\n",
      "[5, 4, 3, 2, 1, 6]\n",
      "[5, 4, 3, 2, 1, 6]\n",
      "[1, 4, 3, 2, 5, 6]\n",
      "[1, 4, 3, 2, 5, 6]\n",
      "[1, 4, 3, 2, 5, 6]\n",
      "[1, 2, 3, 4, 5, 6]\n",
      "[1, 2, 3, 4, 5, 6]\n",
      "[1, 2, 3, 4, 5, 6]\n",
      "x = [1, 2, 3, 4, 5, 6]\n",
      "15\n"
     ]
    }
   ],
   "source": [
    "#selection short nilai maximum diposisi akhir index\n",
    "iterasi = 0\n",
    "x = [5,6,3,2,1,4]\n",
    "for i in range(len(x)-1,0,-1):\n",
    "    iMin = i\n",
    "    for j in range(i-1,-1,-1):\n",
    "        print(x)\n",
    "        iterasi += 1\n",
    "        if x[j] > x[iMin]:\n",
    "            iMin = j\n",
    "    swap = x[i]\n",
    "    x[i]= x[iMin]\n",
    "    x[iMin] = swap\n",
    "print(\"x =\",x)\n",
    "print(iterasi)"
   ]
  },
  {
   "cell_type": "code",
   "execution_count": 21,
   "metadata": {},
   "outputs": [
    {
     "name": "stdout",
     "output_type": "stream",
     "text": [
      "[5, 2, 4, 6, 1, 3]\n",
      "[2, 5, 4, 6, 1, 3]\n",
      "[2, 4, 5, 6, 1, 3]\n",
      "[2, 4, 5, 6, 1, 3]\n",
      "[1, 2, 4, 5, 6, 3]\n",
      "a [1, 2, 3, 4, 5, 6]\n"
     ]
    }
   ],
   "source": [
    "#Insertion Sort Menaik\n",
    "a = [5,2,4,6,1,3]\n",
    "for i in range(1, len(a)):\n",
    "    value = a[i]\n",
    "    hold = i\n",
    "    print(a)\n",
    "    while hold > 0 and a[hold - 1] > value:\n",
    "        a[hold] = a[hold-1]\n",
    "        hold -= 1\n",
    "    a[hold]=value\n",
    "print(\"a\", a)"
   ]
  },
  {
   "cell_type": "code",
   "execution_count": 22,
   "metadata": {},
   "outputs": [
    {
     "name": "stdout",
     "output_type": "stream",
     "text": [
      "[5, 2, 4, 6, 1, 3]\n",
      "[5, 2, 4, 6, 1, 3]\n",
      "[5, 4, 2, 6, 1, 3]\n",
      "[6, 5, 4, 2, 1, 3]\n",
      "[6, 5, 4, 2, 1, 3]\n",
      "a [6, 5, 4, 3, 2, 1]\n"
     ]
    }
   ],
   "source": [
    "#Insertion Sort Menurun\n",
    "a = [5,2,4,6,1,3]\n",
    "for i in range(1,len(a)):\n",
    "    value = a[i]\n",
    "    hold = i\n",
    "    print(a)\n",
    "    while hold > 0 and a[hold - 1] < value:\n",
    "        a[hold] = a[hold-1]\n",
    "        hold -= 1\n",
    "    a[hold]=value\n",
    "print(\"a\", a)"
   ]
  },
  {
   "cell_type": "code",
   "execution_count": 23,
   "metadata": {},
   "outputs": [
    {
     "name": "stdout",
     "output_type": "stream",
     "text": [
      "[0, 6, 500, 4, 56, 2, 1, 100]\n",
      "[0, 6, 4, 56, 2, 1, 100, 500]\n",
      "[0, 1, 4, 56, 2, 6, 100, 500]\n",
      "[0, 1, 4, 2, 6, 56, 100, 500]\n",
      "[0, 1, 2, 4, 6, 56, 100, 500]\n",
      "[0, 1, 2, 4, 6, 56, 100, 500]\n"
     ]
    }
   ],
   "source": [
    "#Quick Sort Menaik\n",
    "def quicksortawal(a):\n",
    "    quicksort(a,0,len(a)-1)\n",
    "\n",
    "def quicksort(a,start,end):\n",
    "    if start < end:\n",
    "        pindex = partition(a,start,end)\n",
    "        quicksort(a,start,pindex-1)\n",
    "        quicksort(a,pindex+1,end)\n",
    "        \n",
    "def partition(a,start,end):\n",
    "    pivot = a[end]\n",
    "    pindex = start\n",
    "    for i in range(start,end):\n",
    "        if a[i] <= pivot:\n",
    "            a[i],a[pindex] = a[pindex],a[i]\n",
    "            pindex += 1\n",
    "    a[pindex],a[end]=a[end],a[pindex]\n",
    "    print(a)\n",
    "    return pindex\n",
    "\n",
    "a=[100,6,500,4,56,2,1,0]\n",
    "quicksortawal(a)\n",
    "print(a)"
   ]
  },
  {
   "cell_type": "code",
   "execution_count": null,
   "metadata": {},
   "outputs": [],
   "source": [
    "#Quick Sort Menurun\n",
    "def quicksortawal(a):\n",
    "    quicksort(a,0,len(a)-1)\n",
    "\n",
    "def quicksort(a,start,end):\n",
    "    if start < end:\n",
    "        pindex = partition(a,start,end)\n",
    "        quicksort(a,start,pindex-1)\n",
    "        quicksort(a,pindex+1,end)\n",
    "        \n",
    "def partition(a,start,end):\n",
    "    pivot = a[end]\n",
    "    pindex = start\n",
    "    for i in range(start,end):\n",
    "        if a[i] >= pivot:\n",
    "            a[i],a[pindex] = a[pindex],a[i]\n",
    "            pindex += 1\n",
    "    a[pindex],a[end]=a[end],a[pindex]\n",
    "    print(a)\n",
    "    return pindex\n",
    "\n",
    "a=[100,6,500,4,56,2,1,0]\n",
    "quicksortawal(a)\n",
    "print(a)"
   ]
  },
  {
   "cell_type": "code",
   "execution_count": 24,
   "metadata": {},
   "outputs": [
    {
     "name": "stdout",
     "output_type": "stream",
     "text": [
      "[100, 6, 500, 4, 56, 2, 1, 0]\n",
      "[100, 6, 500, 4, 56, 2, 1, 0]\n",
      "[100, 6, 500, 4, 56, 2, 1, 0]\n",
      "[100, 500, 56, 4, 6, 2, 1, 0]\n",
      "[500, 100, 56, 4, 6, 2, 1, 0]\n",
      "[500, 100, 56, 6, 4, 2, 1, 0]\n",
      "[500, 100, 56, 6, 4, 2, 1, 0]\n"
     ]
    }
   ],
   "source": [
    "#Quick Sort Menurun\n",
    "def quicksortawal(a):\n",
    "    quicksort(a,0,len(a)-1)\n",
    "\n",
    "def quicksort(a,start,end):\n",
    "    if start < end:\n",
    "        pindex = partition(a,start,end)\n",
    "        quicksort(a,start,pindex-1)\n",
    "        quicksort(a,pindex+1,end)\n",
    "        \n",
    "def partition(a,start,end):\n",
    "    pivot = a[end]\n",
    "    pindex = start\n",
    "    for i in range(start,end):\n",
    "        if a[i] >= pivot:\n",
    "            a[i],a[pindex] = a[pindex],a[i]\n",
    "            pindex += 1\n",
    "    a[pindex],a[end]=a[end],a[pindex]\n",
    "    print(a)\n",
    "    return pindex\n",
    "\n",
    "a=[100,6,500,4,56,2,1,0]\n",
    "quicksortawal(a)\n",
    "print(a)"
   ]
  },
  {
   "cell_type": "code",
   "execution_count": 25,
   "metadata": {},
   "outputs": [
    {
     "name": "stdout",
     "output_type": "stream",
     "text": [
      "[100, 6, 500, 56, 2, 1, 0] 4\n",
      "[100, 500, 56, 4, 2, 1, 0] 6\n",
      "[100, 56, 6, 4, 2, 1, 0] 500\n",
      "[500, 56, 6, 4, 2, 1, 0] 100\n",
      "[500, 100, 56, 6, 4, 2, 0] 1\n",
      "[500, 100, 56, 6, 4, 2, 1, 0]\n"
     ]
    }
   ],
   "source": [
    "#Quick Sort Pivot di tengah menurun\n",
    "def quicksortawal(a):\n",
    "    quicksort(a,0,len(a)-1)\n",
    "\n",
    "def quicksort(a,start,end):\n",
    "    if start < end:\n",
    "        pindex = partition(a,start,end)\n",
    "        quicksort(a,start,pindex-1)\n",
    "        quicksort(a,pindex+1,end)\n",
    "        \n",
    "def partition(a,start,end):\n",
    "    tengah = (start+end)//2\n",
    "    pivot = a.pop(tengah)\n",
    "    leftmark = start\n",
    "    rightmark = end-1\n",
    "    done = False\n",
    "    while not done:\n",
    "        print(a,pivot)\n",
    "        while leftmark <= rightmark and a[leftmark] >= pivot:\n",
    "            leftmark = leftmark + 1\n",
    "        while a[rightmark] <= pivot and rightmark >= leftmark:\n",
    "            rightmark = rightmark -1\n",
    "        if rightmark < leftmark:\n",
    "            done = True\n",
    "        else:\n",
    "            temp = a[leftmark]\n",
    "            a[leftmark] = a[rightmark]\n",
    "            a[rightmark] = temp\n",
    "    a.insert(leftmark,pivot)\n",
    "    return leftmark\n",
    "\n",
    "a=[100,6,500,4,56,2,1,0]\n",
    "quicksortawal(a)\n",
    "print(a)\n"
   ]
  },
  {
   "cell_type": "code",
   "execution_count": 26,
   "metadata": {},
   "outputs": [
    {
     "name": "stdout",
     "output_type": "stream",
     "text": [
      "[100, 6, 500, 56, 2, 1, 0] 4\n",
      "[0, 6, 500, 56, 2, 1, 100] 4\n",
      "[0, 1, 500, 56, 2, 6, 100] 4\n",
      "[0, 1, 2, 56, 500, 6, 100] 4\n",
      "[0, 2, 4, 56, 500, 6, 100] 1\n",
      "[0, 1, 2, 4, 56, 6, 100] 500\n",
      "[0, 1, 2, 4, 56, 100, 500] 6\n",
      "[0, 1, 2, 4, 6, 100, 500] 56\n",
      "[0, 1, 2, 4, 6, 56, 100, 500]\n"
     ]
    }
   ],
   "source": [
    "#Quick Sort Pivot di tengah menaik\n",
    "def quicksortawal(a):\n",
    "    quicksort(a,0,len(a)-1)\n",
    "\n",
    "def quicksort(a,start,end):\n",
    "    if start < end:\n",
    "        pindex = partition(a,start,end)\n",
    "        quicksort(a,start,pindex-1)\n",
    "        quicksort(a,pindex+1,end)\n",
    "        \n",
    "def partition(a,start,end):\n",
    "    tengah = (start+end)//2\n",
    "    pivot = a.pop(tengah)\n",
    "    leftmark = start\n",
    "    rightmark = end-1\n",
    "    done = False\n",
    "    while not done:\n",
    "        print(a,pivot)\n",
    "        while leftmark <= rightmark and a[leftmark] <= pivot:\n",
    "            leftmark = leftmark + 1\n",
    "        while a[rightmark] >= pivot and rightmark >= leftmark:\n",
    "            rightmark = rightmark -1\n",
    "        if rightmark < leftmark:\n",
    "            done = True\n",
    "        else:\n",
    "            temp = a[leftmark]\n",
    "            a[leftmark] = a[rightmark]\n",
    "            a[rightmark] = temp\n",
    "    a.insert(leftmark,pivot)\n",
    "    return leftmark\n",
    "\n",
    "a=[100,6,500,4,56,2,1,0]\n",
    "quicksortawal(a)\n",
    "print(a)"
   ]
  },
  {
   "cell_type": "code",
   "execution_count": 27,
   "metadata": {},
   "outputs": [
    {
     "name": "stdout",
     "output_type": "stream",
     "text": [
      "[17, 20, 26, 31, 44, 54, 55, 77, 93, 99, 100]\n"
     ]
    }
   ],
   "source": [
    "#Merge Sort\n",
    "def mergesort(a):\n",
    "    n = len(a)\n",
    "    if (n < 2) :\n",
    "        return\n",
    "    mid = len(a)//2\n",
    "    left = a[:mid]\n",
    "    right = a[mid:]\n",
    "    mergesort(left)\n",
    "    mergesort(right)\n",
    "    i = 0\n",
    "    j = 0\n",
    "    k = 0\n",
    "    while i < len(left) and j < len(right):\n",
    "        if left[i] < right[j]:\n",
    "            a[k] = left[i]\n",
    "            i = i + 1\n",
    "        else:\n",
    "            a[k]=right[j]\n",
    "            j = j + 1\n",
    "        k = k + 1\n",
    "    while i < len(left):\n",
    "        a[k] = left[i]\n",
    "        i = i + 1\n",
    "        k = k + 1\n",
    "    while j < len(right):\n",
    "        a[k] = right[j]\n",
    "        j = j + 1\n",
    "        k = k + 1\n",
    "alist = [54,26,93,17,99,77,31,44,55,20,100]\n",
    "mergesort(alist)\n",
    "print(alist)"
   ]
  },
  {
   "cell_type": "code",
   "execution_count": null,
   "metadata": {},
   "outputs": [],
   "source": [
    "#sell sort\n",
    "def shellSort(alist):\n",
    "    sublistcount = len(alist)//2\n",
    "    while sublistcount > 0:\n",
    "        for startposition in range(sublistcount):\n",
    "            print(sublistcount)\n",
    "            gapInsertionSort(alist,startposition,sublistcount)\n",
    "        sublistcount = sublistcount // 2\n",
    "\n",
    "def gapInsertionSort(alist,start,gap):\n",
    "    for i in range(start+gap,len(alist),gap):\n",
    "        curentvalue = alist[i]\n",
    "        position = i\n",
    "        while position >= gap and alist[position-gap] > curentvalue:\n",
    "            alist[position]=alist[position-gap]\n",
    "            position = position-gap\n",
    "        alist[position]=curentvalue\n",
    "        print(alist)\n",
    "alist = [35,33,42,10,14,19,27,44]\n",
    "print(alist)\n",
    "shellSort(alist)\n",
    "print(alist)"
   ]
  }
 ],
 "metadata": {
  "kernelspec": {
   "display_name": "Python 3",
   "language": "python",
   "name": "python3"
  },
  "language_info": {
   "codemirror_mode": {
    "name": "ipython",
    "version": 3
   },
   "file_extension": ".py",
   "mimetype": "text/x-python",
   "name": "python",
   "nbconvert_exporter": "python",
   "pygments_lexer": "ipython3",
   "version": "3.6.5"
  }
 },
 "nbformat": 4,
 "nbformat_minor": 2
}
